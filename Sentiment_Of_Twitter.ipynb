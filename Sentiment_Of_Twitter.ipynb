{
 "cells": [
  {
   "cell_type": "markdown",
   "id": "fad244bb",
   "metadata": {},
   "source": [
    "## Sentiment Analysis Of Twitter \n",
    "\n",
    "    Dataset\n",
    "    From Kaggle \n",
    "    "
   ]
  },
  {
   "cell_type": "markdown",
   "id": "65eee602",
   "metadata": {},
   "source": [
    "##### Importing Library "
   ]
  },
  {
   "cell_type": "code",
   "execution_count": 8,
   "id": "88917da4",
   "metadata": {},
   "outputs": [
    {
     "name": "stderr",
     "output_type": "stream",
     "text": [
      "[nltk_data] Downloading package wordnet to\n",
      "[nltk_data]     C:\\Users\\soumg\\AppData\\Roaming\\nltk_data...\n",
      "[nltk_data]   Package wordnet is already up-to-date!\n"
     ]
    }
   ],
   "source": [
    "import re\n",
    "import pandas as pd\n",
    "import matplotlib.pyplot as plt\n",
    "import seaborn as sns\n",
    "import pickle\n",
    "import nltk\n",
    "nltk.download('wordnet')\n",
    "from nltk.stem import WordNetLemmatizer"
   ]
  },
  {
   "cell_type": "markdown",
   "id": "c0739db2",
   "metadata": {},
   "source": [
    "##### Set Up Cplumn"
   ]
  },
  {
   "cell_type": "code",
   "execution_count": 9,
   "id": "19a1f303",
   "metadata": {},
   "outputs": [],
   "source": [
    "cols = ['target','id','date','flag','user','text']"
   ]
  },
  {
   "cell_type": "markdown",
   "id": "346e2c28",
   "metadata": {},
   "source": [
    "##### Loading DataSet"
   ]
  },
  {
   "cell_type": "code",
   "execution_count": 10,
   "id": "8c2b79ef",
   "metadata": {},
   "outputs": [],
   "source": [
    "dataset = pd.read_csv(r'C:\\Users\\soumg\\Desktop\\kaggledata.csv',encoding='ISO-8859-1',names=cols)"
   ]
  },
  {
   "cell_type": "markdown",
   "id": "804c3e6a",
   "metadata": {},
   "source": [
    "##### Read Dataset. first 10 data"
   ]
  },
  {
   "cell_type": "code",
   "execution_count": 11,
   "id": "4d22c261",
   "metadata": {},
   "outputs": [
    {
     "data": {
      "text/html": [
       "<div>\n",
       "<style scoped>\n",
       "    .dataframe tbody tr th:only-of-type {\n",
       "        vertical-align: middle;\n",
       "    }\n",
       "\n",
       "    .dataframe tbody tr th {\n",
       "        vertical-align: top;\n",
       "    }\n",
       "\n",
       "    .dataframe thead th {\n",
       "        text-align: right;\n",
       "    }\n",
       "</style>\n",
       "<table border=\"1\" class=\"dataframe\">\n",
       "  <thead>\n",
       "    <tr style=\"text-align: right;\">\n",
       "      <th></th>\n",
       "      <th>target</th>\n",
       "      <th>id</th>\n",
       "      <th>date</th>\n",
       "      <th>flag</th>\n",
       "      <th>user</th>\n",
       "      <th>text</th>\n",
       "    </tr>\n",
       "  </thead>\n",
       "  <tbody>\n",
       "    <tr>\n",
       "      <th>0</th>\n",
       "      <td>0</td>\n",
       "      <td>1467810369</td>\n",
       "      <td>Mon Apr 06 22:19:45 PDT 2009</td>\n",
       "      <td>NO_QUERY</td>\n",
       "      <td>_TheSpecialOne_</td>\n",
       "      <td>@switchfoot http://twitpic.com/2y1zl - Awww, t...</td>\n",
       "    </tr>\n",
       "    <tr>\n",
       "      <th>1</th>\n",
       "      <td>0</td>\n",
       "      <td>1467810672</td>\n",
       "      <td>Mon Apr 06 22:19:49 PDT 2009</td>\n",
       "      <td>NO_QUERY</td>\n",
       "      <td>scotthamilton</td>\n",
       "      <td>is upset that he can't update his Facebook by ...</td>\n",
       "    </tr>\n",
       "    <tr>\n",
       "      <th>2</th>\n",
       "      <td>0</td>\n",
       "      <td>1467810917</td>\n",
       "      <td>Mon Apr 06 22:19:53 PDT 2009</td>\n",
       "      <td>NO_QUERY</td>\n",
       "      <td>mattycus</td>\n",
       "      <td>@Kenichan I dived many times for the ball. Man...</td>\n",
       "    </tr>\n",
       "    <tr>\n",
       "      <th>3</th>\n",
       "      <td>0</td>\n",
       "      <td>1467811184</td>\n",
       "      <td>Mon Apr 06 22:19:57 PDT 2009</td>\n",
       "      <td>NO_QUERY</td>\n",
       "      <td>ElleCTF</td>\n",
       "      <td>my whole body feels itchy and like its on fire</td>\n",
       "    </tr>\n",
       "    <tr>\n",
       "      <th>4</th>\n",
       "      <td>0</td>\n",
       "      <td>1467811193</td>\n",
       "      <td>Mon Apr 06 22:19:57 PDT 2009</td>\n",
       "      <td>NO_QUERY</td>\n",
       "      <td>Karoli</td>\n",
       "      <td>@nationwideclass no, it's not behaving at all....</td>\n",
       "    </tr>\n",
       "    <tr>\n",
       "      <th>5</th>\n",
       "      <td>0</td>\n",
       "      <td>1467811372</td>\n",
       "      <td>Mon Apr 06 22:20:00 PDT 2009</td>\n",
       "      <td>NO_QUERY</td>\n",
       "      <td>joy_wolf</td>\n",
       "      <td>@Kwesidei not the whole crew</td>\n",
       "    </tr>\n",
       "    <tr>\n",
       "      <th>6</th>\n",
       "      <td>0</td>\n",
       "      <td>1467811592</td>\n",
       "      <td>Mon Apr 06 22:20:03 PDT 2009</td>\n",
       "      <td>NO_QUERY</td>\n",
       "      <td>mybirch</td>\n",
       "      <td>Need a hug</td>\n",
       "    </tr>\n",
       "    <tr>\n",
       "      <th>7</th>\n",
       "      <td>0</td>\n",
       "      <td>1467811594</td>\n",
       "      <td>Mon Apr 06 22:20:03 PDT 2009</td>\n",
       "      <td>NO_QUERY</td>\n",
       "      <td>coZZ</td>\n",
       "      <td>@LOLTrish hey  long time no see! Yes.. Rains a...</td>\n",
       "    </tr>\n",
       "    <tr>\n",
       "      <th>8</th>\n",
       "      <td>0</td>\n",
       "      <td>1467811795</td>\n",
       "      <td>Mon Apr 06 22:20:05 PDT 2009</td>\n",
       "      <td>NO_QUERY</td>\n",
       "      <td>2Hood4Hollywood</td>\n",
       "      <td>@Tatiana_K nope they didn't have it</td>\n",
       "    </tr>\n",
       "    <tr>\n",
       "      <th>9</th>\n",
       "      <td>0</td>\n",
       "      <td>1467812025</td>\n",
       "      <td>Mon Apr 06 22:20:09 PDT 2009</td>\n",
       "      <td>NO_QUERY</td>\n",
       "      <td>mimismo</td>\n",
       "      <td>@twittera que me muera ?</td>\n",
       "    </tr>\n",
       "  </tbody>\n",
       "</table>\n",
       "</div>"
      ],
      "text/plain": [
       "   target          id                          date      flag  \\\n",
       "0       0  1467810369  Mon Apr 06 22:19:45 PDT 2009  NO_QUERY   \n",
       "1       0  1467810672  Mon Apr 06 22:19:49 PDT 2009  NO_QUERY   \n",
       "2       0  1467810917  Mon Apr 06 22:19:53 PDT 2009  NO_QUERY   \n",
       "3       0  1467811184  Mon Apr 06 22:19:57 PDT 2009  NO_QUERY   \n",
       "4       0  1467811193  Mon Apr 06 22:19:57 PDT 2009  NO_QUERY   \n",
       "5       0  1467811372  Mon Apr 06 22:20:00 PDT 2009  NO_QUERY   \n",
       "6       0  1467811592  Mon Apr 06 22:20:03 PDT 2009  NO_QUERY   \n",
       "7       0  1467811594  Mon Apr 06 22:20:03 PDT 2009  NO_QUERY   \n",
       "8       0  1467811795  Mon Apr 06 22:20:05 PDT 2009  NO_QUERY   \n",
       "9       0  1467812025  Mon Apr 06 22:20:09 PDT 2009  NO_QUERY   \n",
       "\n",
       "              user                                               text  \n",
       "0  _TheSpecialOne_  @switchfoot http://twitpic.com/2y1zl - Awww, t...  \n",
       "1    scotthamilton  is upset that he can't update his Facebook by ...  \n",
       "2         mattycus  @Kenichan I dived many times for the ball. Man...  \n",
       "3          ElleCTF    my whole body feels itchy and like its on fire   \n",
       "4           Karoli  @nationwideclass no, it's not behaving at all....  \n",
       "5         joy_wolf                      @Kwesidei not the whole crew   \n",
       "6          mybirch                                        Need a hug   \n",
       "7             coZZ  @LOLTrish hey  long time no see! Yes.. Rains a...  \n",
       "8  2Hood4Hollywood               @Tatiana_K nope they didn't have it   \n",
       "9          mimismo                          @twittera que me muera ?   "
      ]
     },
     "execution_count": 11,
     "metadata": {},
     "output_type": "execute_result"
    }
   ],
   "source": [
    "dataset.head(10)"
   ]
  },
  {
   "cell_type": "markdown",
   "id": "6bd89101",
   "metadata": {},
   "source": [
    "#### Checking data_shape"
   ]
  },
  {
   "cell_type": "code",
   "execution_count": 12,
   "id": "4b6466b2",
   "metadata": {},
   "outputs": [
    {
     "data": {
      "text/plain": [
       "(1048576, 6)"
      ]
     },
     "execution_count": 12,
     "metadata": {},
     "output_type": "execute_result"
    }
   ],
   "source": [
    "dataset.shape"
   ]
  },
  {
   "cell_type": "markdown",
   "id": "a4a5922d",
   "metadata": {},
   "source": [
    "###### Check for missing values"
   ]
  },
  {
   "cell_type": "code",
   "execution_count": 16,
   "id": "8a980c4c",
   "metadata": {},
   "outputs": [
    {
     "data": {
      "text/plain": [
       "target    False\n",
       "id        False\n",
       "date      False\n",
       "flag      False\n",
       "user      False\n",
       "text      False\n",
       "dtype: bool"
      ]
     },
     "execution_count": 16,
     "metadata": {},
     "output_type": "execute_result"
    }
   ],
   "source": [
    "dataset.isnull().any()"
   ]
  },
  {
   "cell_type": "code",
   "execution_count": 13,
   "id": "bde84854",
   "metadata": {},
   "outputs": [
    {
     "data": {
      "text/plain": [
       "target    0\n",
       "id        0\n",
       "date      0\n",
       "flag      0\n",
       "user      0\n",
       "text      0\n",
       "dtype: int64"
      ]
     },
     "execution_count": 13,
     "metadata": {},
     "output_type": "execute_result"
    }
   ],
   "source": [
    "dataset.isnull().sum()"
   ]
  },
  {
   "cell_type": "code",
   "execution_count": 18,
   "id": "ffb0dd6b",
   "metadata": {},
   "outputs": [],
   "source": [
    "# We Can See there is NO NULL Value"
   ]
  },
  {
   "cell_type": "markdown",
   "id": "e0a3bcab",
   "metadata": {},
   "source": [
    "##### Choose only the columns we use"
   ]
  },
  {
   "cell_type": "code",
   "execution_count": 14,
   "id": "acd8c982",
   "metadata": {},
   "outputs": [
    {
     "data": {
      "text/html": [
       "<div>\n",
       "<style scoped>\n",
       "    .dataframe tbody tr th:only-of-type {\n",
       "        vertical-align: middle;\n",
       "    }\n",
       "\n",
       "    .dataframe tbody tr th {\n",
       "        vertical-align: top;\n",
       "    }\n",
       "\n",
       "    .dataframe thead th {\n",
       "        text-align: right;\n",
       "    }\n",
       "</style>\n",
       "<table border=\"1\" class=\"dataframe\">\n",
       "  <thead>\n",
       "    <tr style=\"text-align: right;\">\n",
       "      <th></th>\n",
       "      <th>target</th>\n",
       "      <th>text</th>\n",
       "    </tr>\n",
       "  </thead>\n",
       "  <tbody>\n",
       "    <tr>\n",
       "      <th>0</th>\n",
       "      <td>0</td>\n",
       "      <td>@switchfoot http://twitpic.com/2y1zl - Awww, t...</td>\n",
       "    </tr>\n",
       "    <tr>\n",
       "      <th>1</th>\n",
       "      <td>0</td>\n",
       "      <td>is upset that he can't update his Facebook by ...</td>\n",
       "    </tr>\n",
       "    <tr>\n",
       "      <th>2</th>\n",
       "      <td>0</td>\n",
       "      <td>@Kenichan I dived many times for the ball. Man...</td>\n",
       "    </tr>\n",
       "    <tr>\n",
       "      <th>3</th>\n",
       "      <td>0</td>\n",
       "      <td>my whole body feels itchy and like its on fire</td>\n",
       "    </tr>\n",
       "    <tr>\n",
       "      <th>4</th>\n",
       "      <td>0</td>\n",
       "      <td>@nationwideclass no, it's not behaving at all....</td>\n",
       "    </tr>\n",
       "  </tbody>\n",
       "</table>\n",
       "</div>"
      ],
      "text/plain": [
       "   target                                               text\n",
       "0       0  @switchfoot http://twitpic.com/2y1zl - Awww, t...\n",
       "1       0  is upset that he can't update his Facebook by ...\n",
       "2       0  @Kenichan I dived many times for the ball. Man...\n",
       "3       0    my whole body feels itchy and like its on fire \n",
       "4       0  @nationwideclass no, it's not behaving at all...."
      ]
     },
     "execution_count": 14,
     "metadata": {},
     "output_type": "execute_result"
    }
   ],
   "source": [
    "dataset = dataset[['target','text']]\n",
    "dataset.head(5)"
   ]
  },
  {
   "cell_type": "markdown",
   "id": "68a04aa9",
   "metadata": {},
   "source": [
    "#### Count the Target"
   ]
  },
  {
   "cell_type": "code",
   "execution_count": 15,
   "id": "0500849d",
   "metadata": {},
   "outputs": [
    {
     "data": {
      "text/plain": [
       "0    800000\n",
       "4    248576\n",
       "Name: target, dtype: int64"
      ]
     },
     "execution_count": 15,
     "metadata": {},
     "output_type": "execute_result"
    }
   ],
   "source": [
    "dataset['target'].value_counts()"
   ]
  },
  {
   "cell_type": "markdown",
   "id": "80143660",
   "metadata": {},
   "source": [
    "##### There is no tweets with neutral \"2\"tag , So its binary classification problem now"
   ]
  },
  {
   "cell_type": "code",
   "execution_count": 16,
   "id": "bdb259a2",
   "metadata": {},
   "outputs": [
    {
     "data": {
      "text/plain": [
       "([<matplotlib.axis.XTick at 0x10c0006bca0>,\n",
       "  <matplotlib.axis.XTick at 0x10c0006bc70>],\n",
       " [Text(0, 0, 'Negative'), Text(1, 0, 'Positive')])"
      ]
     },
     "execution_count": 16,
     "metadata": {},
     "output_type": "execute_result"
    },
    {
     "data": {
      "image/png": "[encoded data removed]",
      "text/plain": [
       "<Figure size 432x288 with 1 Axes>"
      ]
     },
     "metadata": {
      "needs_background": "light"
     },
     "output_type": "display_data"
    }
   ],
   "source": [
    "sns.countplot(data=dataset,x='target')\n",
    "plt.xticks(ticks=[0,1],labels=['Negative','Positive'])"
   ]
  },
  {
   "cell_type": "code",
   "execution_count": null,
   "id": "305a44a4",
   "metadata": {},
   "outputs": [],
   "source": []
  },
  {
   "cell_type": "markdown",
   "id": "110ee8f3",
   "metadata": {},
   "source": [
    "#### Replace Target 4 by 1"
   ]
  },
  {
   "cell_type": "code",
   "execution_count": 18,
   "id": "d2330025",
   "metadata": {},
   "outputs": [],
   "source": [
    "dataset['target'] = dataset['target'].replace(4,1)"
   ]
  },
  {
   "cell_type": "markdown",
   "id": "35efc0ff",
   "metadata": {},
   "source": [
    "##### Checking..."
   ]
  },
  {
   "cell_type": "code",
   "execution_count": 19,
   "id": "022f2f3e",
   "metadata": {},
   "outputs": [
    {
     "data": {
      "text/plain": [
       "array([0, 1], dtype=int64)"
      ]
     },
     "execution_count": 19,
     "metadata": {},
     "output_type": "execute_result"
    }
   ],
   "source": [
    "dataset['target'].unique()"
   ]
  },
  {
   "cell_type": "markdown",
   "id": "fe115ab1",
   "metadata": {},
   "source": [
    "##### Let's Handle the text"
   ]
  },
  {
   "cell_type": "code",
   "execution_count": 20,
   "id": "362e2958",
   "metadata": {},
   "outputs": [],
   "source": [
    "# dictionary containing all emojis.\n",
    "emojis = {':)': 'smile', ':-)': 'smile', ';d': 'wink', ':-E': 'vampire', ':(': 'sad',':-(': 'sad', ':-<': 'sad', ':P': 'raspberry', ':O': 'surprised',\n",
    "          ':-@': 'shocked', ':@': 'shocked',':-$': 'confused', ':\\\\': 'annoyed',':#': 'mute', ':X': 'mute', ':^)': 'smile', ':-&': 'confused',\n",
    "          '$_$': 'greedy','@@': 'eyeroll', ':-!': 'confused', ':-D': 'smile', ':-0': 'yell', 'O.o': 'confused','<(-_-)>': 'robot', 'd[-_-]b': 'dj', \n",
    "          \":'-)\": 'sadsmile',';)': 'wink',';-)': 'wink', 'O:-)': 'angel','O*-)': 'angel','(:-D': 'gossip', '=^.^=': 'cat'}"
   ]
  },
  {
   "cell_type": "code",
   "execution_count": 21,
   "id": "51d404a5",
   "metadata": {},
   "outputs": [],
   "source": [
    "# list containing all stopwords.\n",
    "stopword =  ['a', 'about', 'above', 'after', 'again', 'ain', 'all', 'am', 'an','and','any','are', 'as', 'at', 'be', 'because', 'been', 'before',\n",
    "             'being', 'below', 'between','both', 'by', 'can', 'd', 'did', 'do','does', 'doing', 'down', 'during', 'each','few', 'for', 'from', \n",
    "             'further', 'had', 'has', 'have', 'having', 'he', 'her', 'here','hers', 'herself', 'him', 'himself', 'his', 'how', 'i', 'if', 'in',\n",
    "             'into','is', 'it', 'its', 'itself', 'just', 'll', 'm', 'ma','me', 'more', 'most','my', 'myself', 'now', 'o', 'of', 'on', 'once',\n",
    "             'only', 'or', 'other', 'our', 'ours','ourselves', 'out', 'own', 're','s', 'same', 'she', \"shes\", 'should', \"shouldve\",'so', 'some', 'such',\n",
    "             't', 'than', 'that', \"thatll\", 'the', 'their', 'theirs', 'them','themselves', 'then', 'there', 'these', 'they', 'this', 'those', \n",
    "             'through', 'to', 'too','under', 'until', 'up', 've', 'very', 'was', 'we', 'were', 'what', 'when', 'where','which','while', 'who', 'whom',\n",
    "             'why', 'will', 'with', 'won', 'y', 'you', \"youd\",\"youll\", \"youre\",\"youve\", 'your', 'yours', 'yourself', 'yourselves']"
   ]
  },
  {
   "cell_type": "markdown",
   "id": "b6fb5272",
   "metadata": {},
   "source": [
    "##### Function to clean the data."
   ]
  },
  {
   "cell_type": "code",
   "execution_count": 22,
   "id": "2c8d9e47",
   "metadata": {},
   "outputs": [],
   "source": [
    "# Function to clean the data.\n",
    "def preprocess(text , wordLemm):\n",
    "    processedText = []\n",
    "    \n",
    "    # Defining regex patterns.\n",
    "    urlPattern        = r\"((http://)[^ ]*|(https://)[^ ]*|( www\\.)[^ ]*)\"\n",
    "    userPattern       = '@[^\\s]+'\n",
    "    alphaPattern      = \"[^a-zA-Z0-9]\"\n",
    "    sequencePattern   = r\"(.)\\1\\1+\"\n",
    "    seqReplacePattern = r\"\\1\\1\"\n",
    "    \n",
    "    for tweet in text:\n",
    "        tweet = tweet.lower()\n",
    "        \n",
    "        # Replace all URls with 'URL'\n",
    "        tweet = re.sub(urlPattern,' URL',tweet)\n",
    "        # Replace all emojis.\n",
    "        for emoji in emojis.keys():\n",
    "            tweet = tweet.replace(emoji, \"EMOJI\" + emojis[emoji])        \n",
    "        # Replace @USERNAME to 'USER'.\n",
    "        tweet = re.sub(userPattern,' USER', tweet)        \n",
    "        # Replace all non alphabets.\n",
    "        tweet = re.sub(alphaPattern, \" \", tweet)\n",
    "        # Replace 3 or more consecutive letters by 2 letter.\n",
    "        tweet = re.sub(sequencePattern, seqReplacePattern, tweet)\n",
    "        \n",
    "        tweetwords = ''\n",
    "        for word in tweet.split():\n",
    "            if len(word)>1:\n",
    "                # Lemmatizing the word.\n",
    "                word = wordLemm.lemmatize(word)\n",
    "                tweetwords += (word+' ')\n",
    "            \n",
    "        processedText.append(tweetwords)\n",
    "        \n",
    "    return processedText\n",
    "        "
   ]
  },
  {
   "cell_type": "code",
   "execution_count": 23,
   "id": "96cf2052",
   "metadata": {},
   "outputs": [],
   "source": [
    "wordLemm = WordNetLemmatizer()\n",
    "X = preprocess(list(dataset['text']),wordLemm)\n",
    "y = dataset['target']"
   ]
  },
  {
   "cell_type": "markdown",
   "id": "13a36002",
   "metadata": {},
   "source": [
    "###### Spliting data to features and target"
   ]
  },
  {
   "cell_type": "code",
   "execution_count": 24,
   "id": "d341c750",
   "metadata": {},
   "outputs": [],
   "source": [
    "from sklearn.model_selection import train_test_split\n",
    "X_train , X_test , y_train , y_test = train_test_split(X,y,test_size=0.2,random_state=42)\n"
   ]
  },
  {
   "cell_type": "code",
   "execution_count": 50,
   "id": "4369b1f0",
   "metadata": {},
   "outputs": [
    {
     "data": {
      "text/plain": [
       "<bound method DataFrame.info of                                                         0\n",
       "target                                                   \n",
       "0       my hand hurt it like norbit USER except invisi...\n",
       "1       USER im taking advantage of twitter every chan...\n",
       "0       the olson family ha been sick for several day ...\n",
       "0       just accidentally ruined dollhouse for USER th...\n",
       "0       USER only managed 20 minute because stuck at t...\n",
       "...                                                   ...\n",
       "0       this song middle change just doesn want to be ...\n",
       "0       USER trying to reach my dream but it seems imp...\n",
       "0                              USER rather average 32370 \n",
       "0       pickin up USER waitin on USER hurry up odee mi...\n",
       "0       home studying for math woot im so going to fai...\n",
       "\n",
       "[838860 rows x 1 columns]>"
      ]
     },
     "execution_count": 50,
     "metadata": {},
     "output_type": "execute_result"
    }
   ],
   "source": [
    "pd.DataFrame(X_train , y_train).info"
   ]
  },
  {
   "cell_type": "markdown",
   "id": "65cc6d56",
   "metadata": {},
   "source": [
    "#### Instantiate the TfidfVectorizer"
   ]
  },
  {
   "cell_type": "code",
   "execution_count": 25,
   "id": "4d3afbf1",
   "metadata": {},
   "outputs": [
    {
     "data": {
      "text/plain": [
       "TfidfVectorizer(max_features=1000000, ngram_range=(1, 2),\n",
       "                stop_words=['a', 'about', 'above', 'after', 'again', 'ain',\n",
       "                            'all', 'am', 'an', 'and', 'any', 'are', 'as', 'at',\n",
       "                            'be', 'because', 'been', 'before', 'being', 'below',\n",
       "                            'between', 'both', 'by', 'can', 'd', 'did', 'do',\n",
       "                            'does', 'doing', 'down', ...])"
      ]
     },
     "execution_count": 25,
     "metadata": {},
     "output_type": "execute_result"
    }
   ],
   "source": [
    "from sklearn.feature_extraction.text import TfidfVectorizer\n",
    "vect = TfidfVectorizer(ngram_range=(1,2), max_features=1000000,stop_words=stopword)\n",
    "\n",
    "vect.fit(X_train)"
   ]
  },
  {
   "cell_type": "code",
   "execution_count": 26,
   "id": "31c4a654",
   "metadata": {},
   "outputs": [],
   "source": [
    "X_train = vect.transform(X_train)\n",
    "X_test = vect.transform(X_test)"
   ]
  },
  {
   "cell_type": "markdown",
   "id": "69f9ca35",
   "metadata": {},
   "source": [
    "#### Now Going for Selecting a Model"
   ]
  },
  {
   "cell_type": "code",
   "execution_count": 27,
   "id": "f01151e7",
   "metadata": {},
   "outputs": [],
   "source": [
    "from sklearn.naive_bayes import MultinomialNB\n",
    "from sklearn.linear_model import LogisticRegression\n",
    "import xgboost as xgb"
   ]
  },
  {
   "cell_type": "markdown",
   "id": "e34ea5b7",
   "metadata": {},
   "source": [
    "#### Let's go for Evalution"
   ]
  },
  {
   "cell_type": "code",
   "execution_count": 28,
   "id": "5c37d10c",
   "metadata": {},
   "outputs": [],
   "source": [
    "from sklearn.metrics import confusion_matrix\n",
    "from sklearn.metrics import classification_report\n",
    "from sklearn.metrics import accuracy_score"
   ]
  },
  {
   "cell_type": "markdown",
   "id": "ea15f50d",
   "metadata": {},
   "source": [
    "#### Let's Plug Naive Bayes Classifier"
   ]
  },
  {
   "cell_type": "code",
   "execution_count": 29,
   "id": "d092ec08",
   "metadata": {},
   "outputs": [
    {
     "name": "stdout",
     "output_type": "stream",
     "text": [
      "Naive Bayes Accuracy : 0.7983940185775048\n"
     ]
    }
   ],
   "source": [
    "nb_clf = MultinomialNB()\n",
    "nb_clf.fit(X_train,y_train)\n",
    "\n",
    "nb_pred = nb_clf.predict(X_test)\n",
    "print('Naive Bayes Accuracy :',accuracy_score(y_test,nb_pred))"
   ]
  },
  {
   "cell_type": "markdown",
   "id": "949f31b0",
   "metadata": {},
   "source": [
    "#### Logistic Regression Classifier"
   ]
  },
  {
   "cell_type": "code",
   "execution_count": 34,
   "id": "55b8a1e7",
   "metadata": {},
   "outputs": [
    {
     "name": "stdout",
     "output_type": "stream",
     "text": [
      "Logistic Regression Accuracy : 0.857321329798394\n"
     ]
    }
   ],
   "source": [
    "log_clf = LogisticRegression(C = 2, max_iter = 1000, n_jobs=-1)\n",
    "log_clf.fit(X_train,y_train)\n",
    "\n",
    "log_pred = log_clf.predict(X_test)\n",
    "print('Logistic Regression Accuracy :',accuracy_score(y_test,log_pred))"
   ]
  },
  {
   "cell_type": "markdown",
   "id": "e437d423",
   "metadata": {},
   "source": [
    "#### XGBClassifier"
   ]
  },
  {
   "cell_type": "code",
   "execution_count": 31,
   "id": "56b46d50",
   "metadata": {},
   "outputs": [
    {
     "name": "stdout",
     "output_type": "stream",
     "text": [
      "XGBClassifier Accuracy : 0.818063476320357\n"
     ]
    }
   ],
   "source": [
    "xgb_clf = xgb.XGBClassifier(eval_metric='mlogloss',use_label_encoder=False)\n",
    "xgb_clf.fit(X_train,y_train)\n",
    "\n",
    "xgb_pred = xgb_clf.predict(X_test)\n",
    "print('XGBClassifier Accuracy :',accuracy_score(y_test,xgb_pred))"
   ]
  },
  {
   "cell_type": "markdown",
   "id": "92654da5",
   "metadata": {},
   "source": [
    "#### Here We can see Logistic regression is more accurate than others"
   ]
  },
  {
   "cell_type": "code",
   "execution_count": 32,
   "id": "d5f814fd",
   "metadata": {},
   "outputs": [
    {
     "name": "stdout",
     "output_type": "stream",
     "text": [
      "[[151195   8932]\n",
      " [ 20990  28599]]\n"
     ]
    },
    {
     "data": {
      "image/png": "[encoded data removed]",
      "text/plain": [
       "<Figure size 360x360 with 2 Axes>"
      ]
     },
     "metadata": {
      "needs_background": "light"
     },
     "output_type": "display_data"
    }
   ],
   "source": [
    "cm = confusion_matrix(y_test,log_pred)\n",
    "print(cm)\n",
    "\n",
    "plt.figure(figsize=(5,5))\n",
    "sns.heatmap(cm,annot=True)\n",
    "plt.show()"
   ]
  },
  {
   "cell_type": "markdown",
   "id": "c79b3b62",
   "metadata": {},
   "source": [
    "##### Let's Print The Report"
   ]
  },
  {
   "cell_type": "code",
   "execution_count": 36,
   "id": "fb2135cc",
   "metadata": {},
   "outputs": [
    {
     "name": "stdout",
     "output_type": "stream",
     "text": [
      "              precision    recall  f1-score   support\n",
      "\n",
      "           0       0.88      0.94      0.91    160127\n",
      "           1       0.76      0.58      0.66     49589\n",
      "\n",
      "    accuracy                           0.86    209716\n",
      "   macro avg       0.82      0.76      0.78    209716\n",
      "weighted avg       0.85      0.86      0.85    209716\n",
      "\n"
     ]
    }
   ],
   "source": [
    "print(classification_report(y_test,log_pred))"
   ]
  },
  {
   "cell_type": "markdown",
   "id": "03429e05",
   "metadata": {},
   "source": [
    "##### Here's The Conclusion Of the sentiment of the Tweet !"
   ]
  },
  {
   "cell_type": "code",
   "execution_count": null,
   "id": "733e59b2",
   "metadata": {},
   "outputs": [],
   "source": []
  }
 ],
 "metadata": {
  "kernelspec": {
   "display_name": "Python 3",
   "language": "python",
   "name": "python3"
  }
 },
 "nbformat": 4,
 "nbformat_minor": 5
}
